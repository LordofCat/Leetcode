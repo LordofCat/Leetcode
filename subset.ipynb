{
 "metadata": {
  "language_info": {
   "codemirror_mode": {
    "name": "ipython",
    "version": 3
   },
   "file_extension": ".py",
   "mimetype": "text/x-python",
   "name": "python",
   "nbconvert_exporter": "python",
   "pygments_lexer": "ipython3",
   "version": "3.8.6-final"
  },
  "orig_nbformat": 2,
  "kernelspec": {
   "name": "Python 3.8.6 64-bit",
   "display_name": "Python 3.8.6 64-bit",
   "metadata": {
    "interpreter": {
     "hash": "049e0c629f936976b7b7abe51b09216844bebbd6c5d5b020ea55e85e53b9aa27"
    }
   }
  }
 },
 "nbformat": 4,
 "nbformat_minor": 2,
 "cells": [
  {
   "cell_type": "code",
   "execution_count": 1,
   "metadata": {},
   "outputs": [],
   "source": [
    "class Solution():\n",
    "    def subsets(self, nums):\n",
    "        \"\"\"\n",
    "        :type nums: List[int]\n",
    "        :rtype: List[List[int]]\n",
    "        \"\"\"\n",
    "        results =[]\n",
    "        \n",
    "        if nums == []:\n",
    "            return results\n",
    "        \n",
    "        else:\n",
    "            self.SubsetHelper([], nums,0,results)\n",
    "            \n",
    "        return results\n",
    "            \n",
    "    def SubsetHelper(self, numbers, nums, position,results):\n",
    "        \n",
    "        results.append(numbers[:])\n",
    "       \n",
    "        for i in range(position, len(nums)):\n",
    "            \n",
    "            numbers.append(nums[i])\n",
    "            \n",
    "            self.SubsetHelper(numbers, nums, i+1, results)\n",
    "            \n",
    "            numbers.pop(-1)"
   ]
  },
  {
   "source": [
    "## Unique subset"
   ],
   "cell_type": "markdown",
   "metadata": {}
  },
  {
   "source": [
    "class Solution():\n",
    "    def subsets(self, nums):\n",
    "        \"\"\"\n",
    "        :type nums: List[int]\n",
    "        :rtype: List[List[int]]\n",
    "        \"\"\"\n",
    "        results =[]\n",
    "        \n",
    "        if nums == []:\n",
    "            return results\n",
    "        \n",
    "        else:\n",
    "\n",
    "            nums.sort()\n",
    "\n",
    "            self.SubsetHelper([], nums,0,results)\n",
    "            \n",
    "        return results\n",
    "            \n",
    "    def SubsetHelper(self, numbers, nums, position,results):\n",
    "        \n",
    "        results.append(numbers[:])\n",
    "       \n",
    "        for i in range(position, len(nums)):\n",
    "\n",
    "            if (i != position and nums[i] == nums[i-1]):\n",
    "\n",
    "                continue\n",
    "            \n",
    "            numbers.append(nums[i])\n",
    "            \n",
    "            self.SubsetHelper(numbers, nums, i+1, results)\n",
    "            \n",
    "            numbers.pop(-1)"
   ],
   "cell_type": "code",
   "metadata": {},
   "execution_count": 2,
   "outputs": []
  },
  {
   "source": [
    "nums = [1,2,2,4]"
   ],
   "cell_type": "code",
   "metadata": {},
   "execution_count": 3,
   "outputs": []
  },
  {
   "cell_type": "code",
   "execution_count": 4,
   "metadata": {},
   "outputs": [
    {
     "output_type": "execute_result",
     "data": {
      "text/plain": [
       "[[],\n",
       " [1],\n",
       " [1, 2],\n",
       " [1, 2, 2],\n",
       " [1, 2, 2, 4],\n",
       " [1, 2, 4],\n",
       " [1, 4],\n",
       " [2],\n",
       " [2, 2],\n",
       " [2, 2, 4],\n",
       " [2, 4],\n",
       " [4]]"
      ]
     },
     "metadata": {},
     "execution_count": 4
    }
   ],
   "source": [
    "Solution().subsets(nums)"
   ]
  },
  {
   "cell_type": "code",
   "execution_count": null,
   "metadata": {},
   "outputs": [],
   "source": []
  }
 ]
}