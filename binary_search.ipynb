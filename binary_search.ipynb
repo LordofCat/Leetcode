{
 "metadata": {
  "language_info": {
   "codemirror_mode": {
    "name": "ipython",
    "version": 3
   },
   "file_extension": ".py",
   "mimetype": "text/x-python",
   "name": "python",
   "nbconvert_exporter": "python",
   "pygments_lexer": "ipython3",
   "version": "3.8.6-final"
  },
  "orig_nbformat": 2,
  "kernelspec": {
   "name": "Python 3.8.6 64-bit",
   "display_name": "Python 3.8.6 64-bit",
   "metadata": {
    "interpreter": {
     "hash": "049e0c629f936976b7b7abe51b09216844bebbd6c5d5b020ea55e85e53b9aa27"
    }
   }
  }
 },
 "nbformat": 4,
 "nbformat_minor": 2,
 "cells": [
  {
   "source": [
    "## Binary Search"
   ],
   "cell_type": "markdown",
   "metadata": {}
  },
  {
   "source": [
    "Given a sorted (in ascending order) integer array nums of n elements and a target value, write a function to search target in nums. If target exists, then return its index, otherwise return -1."
   ],
   "cell_type": "markdown",
   "metadata": {}
  },
  {
   "cell_type": "code",
   "execution_count": 3,
   "metadata": {},
   "outputs": [],
   "source": [
    "class Solution(object):\n",
    "    def search(self, nums, target):\n",
    "        \"\"\"\n",
    "        :type nums: List[int]\n",
    "        :type target: int\n",
    "        :rtype: int\n",
    "        \"\"\"\n",
    "        if (nums == []):           \n",
    "            return -1\n",
    "        \n",
    "        start = 0\n",
    "        end = len(nums) - 1\n",
    "        \n",
    "        while (start + 1 < end):\n",
    "            \n",
    "            mid = start + (end - start)/2\n",
    "            \n",
    "            if (nums[mid] == target):                \n",
    "                end = mid\n",
    "                \n",
    "            elif (nums[mid] < target):                \n",
    "                start = mid\n",
    "                \n",
    "            else:                \n",
    "                end = mid\n",
    "                \n",
    "        if (nums[start] == target):            \n",
    "            return start\n",
    "        \n",
    "        if (nums[end] == target):           \n",
    "            return end\n",
    "        \n",
    "        return -1"
   ]
  },
  {
   "cell_type": "code",
   "execution_count": null,
   "metadata": {},
   "outputs": [],
   "source": []
  }
 ]
}